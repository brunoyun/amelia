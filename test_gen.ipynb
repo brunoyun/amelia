{
 "cells": [
  {
   "cell_type": "code",
   "execution_count": null,
   "metadata": {},
   "outputs": [],
   "source": [
    "from unsloth import FastLanguageModel\n",
    "from ollama import chat\n",
    "from datasets import Dataset"
   ]
  },
  {
   "cell_type": "code",
   "execution_count": null,
   "metadata": {},
   "outputs": [],
   "source": [
    "import re\n",
    "import datetime\n",
    "import itertools\n",
    "import os\n",
    "import pandas as pd\n",
    "import numpy as np\n",
    "\n",
    "from ast import literal_eval\n",
    "\n",
    "# import src.inference as inference\n",
    "# from src.utils import run_training"
   ]
  },
  {
   "cell_type": "code",
   "execution_count": null,
   "metadata": {},
   "outputs": [],
   "source": [
    "# bert training\n",
    "\n",
    "from deberta_fn import get_datasets, compute_metrics, tokenize_fn\n",
    "\n",
    "task_name = 'stance_detection'\n",
    "output_dir = f'./outputs/{task_name}/deberta_{task_name}'\n",
    "model_name = 'microsoft/deberta-base'\n",
    "tokenizer = AutoTokenizer.from_pretrained(model_name)\n",
    "model = AutoModelForSequenceClassification.from_pretrained(\n",
    "    model_name,\n",
    "    num_labels=2,\n",
    ")\n",
    "\n",
    "train_dataset, test_dataset = get_datasets(tokenizer, tokenize_fn, task_name)\n",
    "\n",
    "# raise ValueError\n",
    "training_args = TrainingArguments(\n",
    "    output_dir=output_dir,\n",
    "    eval_strategy=\"no\",\n",
    "    per_device_train_batch_size=5,\n",
    "    per_device_eval_batch_size=5,\n",
    "    gradient_accumulation_steps=1,\n",
    "    num_train_epochs=5,\n",
    "    learning_rate=3e-5,\n",
    "    optim=\"adamw_torch_fused\",\n",
    "    weight_decay=0.01,\n",
    "    logging_steps=1,\n",
    "    report_to=\"tensorboard\",\n",
    "    save_strategy=\"epoch\",\n",
    "    # load_best_model_at_end=True,\n",
    "    # eval_on_start=True,\n",
    "    remove_unused_columns=True,\n",
    ")\n",
    "\n",
    "trainer = Trainer(\n",
    "    model=model,\n",
    "    args=training_args,\n",
    "    train_dataset=train_dataset,\n",
    "    compute_metrics=compute_metrics,\n",
    ")\n",
    "\n",
    "trainer.train()\n",
    "\n",
    "# Test the model\n",
    "test_results = trainer.evaluate(test_dataset)\n",
    "print(test_results)\n",
    "test_results\n",
    "test_df = pd.Series(data=test_results)\n",
    "test_df.to_csv(f'./test_res/{task_name}/deberta_res_{task_name}.csv', header=['score'])"
   ]
  },
  {
   "cell_type": "code",
   "execution_count": null,
   "metadata": {},
   "outputs": [],
   "source": [
    "# Run Training, Test and saving \n",
    "# model, tokenizer = run('quality', do_training=True)"
   ]
  },
  {
   "cell_type": "code",
   "execution_count": null,
   "metadata": {},
   "outputs": [],
   "source": [
    "# all_result = inference.inference_on_all_data(\n",
    "#     model_for_task='corrected',\n",
    "#     model_to_use='few-shot',\n",
    "#     few_shot=True,\n",
    "# )\n",
    "# all_result"
   ]
  },
  {
   "cell_type": "code",
   "execution_count": null,
   "metadata": {},
   "outputs": [],
   "source": [
    "# model, tokenizer = FastLanguageModel.from_pretrained(\n",
    "#     model_name=f'./merged_model/conf_della_4',\n",
    "#     max_seq_length=2048,\n",
    "#     dtype=None,\n",
    "#     load_in_4bit=False,\n",
    "#     fast_inference=True,\n",
    "#     gpu_memory_utilization=0.6,\n",
    "# )\n",
    "# model.save_pretrained_gguf(\n",
    "#     './gguf_model/merged_gguf',\n",
    "#     tokenizer,\n",
    "#     quantization_method = \"q8_0\", # choose quant method: q8_0\n",
    "# )"
   ]
  }
 ],
 "metadata": {
  "kernelspec": {
   "display_name": ".venv",
   "language": "python",
   "name": "python3"
  },
  "language_info": {
   "codemirror_mode": {
    "name": "ipython",
    "version": 3
   },
   "file_extension": ".py",
   "mimetype": "text/x-python",
   "name": "python",
   "nbconvert_exporter": "python",
   "pygments_lexer": "ipython3",
   "version": "3.10.12"
  }
 },
 "nbformat": 4,
 "nbformat_minor": 2
}
